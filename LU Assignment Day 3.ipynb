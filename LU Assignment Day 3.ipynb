{
 "cells": [
  {
   "cell_type": "code",
   "execution_count": 2,
   "metadata": {},
   "outputs": [
    {
     "data": {
      "text/plain": [
       "array([ 2,  5,  8, 11, 14, 17, 20, 23, 26, 29, 32, 35, 38, 41, 44, 47, 50])"
      ]
     },
     "execution_count": 2,
     "metadata": {},
     "output_type": "execute_result"
    }
   ],
   "source": [
    "#Question 1:\n",
    "\n",
    "import numpy as np\n",
    "np.arange(2,51,3)"
   ]
  },
  {
   "cell_type": "code",
   "execution_count": 17,
   "metadata": {},
   "outputs": [
    {
     "name": "stdout",
     "output_type": "stream",
     "text": [
      "12\n",
      "3234\n",
      "12\n",
      "34\n",
      "56\n",
      "23\n",
      "76\n",
      "23\n",
      "43\n",
      "56\n",
      "array after concatenation: [  12 3234   12   34   56   23   76   23   43   56]\n",
      "sorted array 1: [  12   12   34   56 3234]\n",
      "sorted array 2: [23 23 43 56 76]\n"
     ]
    }
   ],
   "source": [
    "#Question 2:\n",
    "\n",
    "list1=[int(input()) for i in range(5)]\n",
    "list2=[int(input()) for i in range(5)]\n",
    "a=np.array(list1)\n",
    "b=np.array(list2)\n",
    "print('array after concatenation:',np.concatenate((a,b)))    \n",
    "print('sorted array 1:',np.sort(a))\n",
    "print('sorted array 2:',np.sort(b))"
   ]
  },
  {
   "cell_type": "code",
   "execution_count": 23,
   "metadata": {},
   "outputs": [
    {
     "name": "stdout",
     "output_type": "stream",
     "text": [
      "dimension: 2\n",
      "array size: 12\n"
     ]
    }
   ],
   "source": [
    "#Question 3:\n",
    "\n",
    "ar=np.array([[2,5,1,22],[23,12,45,20],[23,7,45,89]])\n",
    "print('dimension:',ar.ndim)\n",
    "print('array size:',ar.size)"
   ]
  },
  {
   "cell_type": "code",
   "execution_count": 33,
   "metadata": {},
   "outputs": [
    {
     "name": "stdout",
     "output_type": "stream",
     "text": [
      "actual array dimension : 1\n",
      "array dimension after using np.newaxis: 2\n",
      "array dimension after using np.expand_dims: 2\n"
     ]
    }
   ],
   "source": [
    "#Question 4:\n",
    "\n",
    "ar=np.arange(10)\n",
    "roar=ar[np.newaxis,:]\n",
    "print('actual array dimension :',ar.ndim)\n",
    "print('array dimension after using np.newaxis:',roar.ndim)\n",
    "ab=np.expand_dims(ar,axis=0)\n",
    "print('array dimension after using np.expand_dims:',ab.ndim)"
   ]
  },
  {
   "cell_type": "code",
   "execution_count": 36,
   "metadata": {},
   "outputs": [
    {
     "name": "stdout",
     "output_type": "stream",
     "text": [
      "Horizontal Append : [  1 144  16   9  36 256  49  25  81 100]\n",
      "Vertical Append : [[  1 144  16   9  36]\n",
      " [256  49  25  81 100]]\n"
     ]
    }
   ],
   "source": [
    "#Question 5:\n",
    "\n",
    "arr_1 = np.square([1, 12, 4, 3, 6])\n",
    "arr_2 = np.square([16, 7, 5, 9, 10])\n",
    "print(\"Horizontal Append :\",np.hstack((arr_1, arr_2)))\n",
    "print(\"Vertical Append :\",np.vstack((arr_1, arr_2)))"
   ]
  },
  {
   "cell_type": "code",
   "execution_count": 45,
   "metadata": {},
   "outputs": [
    {
     "name": "stdout",
     "output_type": "stream",
     "text": [
      "[ 1  2  3  4  5  6  7  8  9 10 16 25]\n",
      "[2 2 1 2 2 1 1 1 1 1 1 1]\n"
     ]
    }
   ],
   "source": [
    "#Question 6:\n",
    "\n",
    "arr_1 = np.array([1, 4, 9, 16, 25, 1, 4, 2, 3, 2, 5, 6, 5, 7, 8, 10])\n",
    "unique,counts = np.unique(arr_1, return_counts=True)\n",
    "print(unique)\n",
    "print(counts)"
   ]
  },
  {
   "cell_type": "code",
   "execution_count": null,
   "metadata": {},
   "outputs": [],
   "source": []
  }
 ],
 "metadata": {
  "kernelspec": {
   "display_name": "Python 3",
   "language": "python",
   "name": "python3"
  },
  "language_info": {
   "codemirror_mode": {
    "name": "ipython",
    "version": 3
   },
   "file_extension": ".py",
   "mimetype": "text/x-python",
   "name": "python",
   "nbconvert_exporter": "python",
   "pygments_lexer": "ipython3",
   "version": "3.7.7"
  }
 },
 "nbformat": 4,
 "nbformat_minor": 4
}
