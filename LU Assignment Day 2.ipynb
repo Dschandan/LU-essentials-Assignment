{
 "cells": [
  {
   "cell_type": "code",
   "execution_count": 23,
   "metadata": {},
   "outputs": [
    {
     "name": "stdout",
     "output_type": "stream",
     "text": [
      "12\n",
      "67\n",
      "13\n",
      "46\n",
      "88\n",
      "19\n",
      "33\n",
      "22\n",
      "87\n",
      "0\n",
      "[12, 46, 88, 22]\n"
     ]
    }
   ],
   "source": [
    "# Question no. 1:\n",
    "\n",
    "li=[]\n",
    "for i in range(0,10):\n",
    "    a=int(input())\n",
    "    if a%2==0 and a!=0:\n",
    "        li.append(a)\n",
    "print(li)"
   ]
  },
  {
   "cell_type": "code",
   "execution_count": 5,
   "metadata": {},
   "outputs": [
    {
     "name": "stdout",
     "output_type": "stream",
     "text": [
      "[0, 1, 2, 3, 4, 5, 6, 7, 8]\n"
     ]
    }
   ],
   "source": [
    "# Question no. 2:\n",
    "\n",
    "lis=[i for i in range(9)]\n",
    "print(lis)"
   ]
  },
  {
   "cell_type": "code",
   "execution_count": 10,
   "metadata": {},
   "outputs": [
    {
     "name": "stdout",
     "output_type": "stream",
     "text": [
      "4\n",
      "{1: 1, 2: 4, 3: 9, 4: 16}\n"
     ]
    }
   ],
   "source": [
    "# Question no. 3:\n",
    "\n",
    "d={}\n",
    "n=int(input())\n",
    "for i in range(1,n+1):\n",
    "    d[i]=i*i\n",
    "print(d)"
   ]
  },
  {
   "cell_type": "code",
   "execution_count": 18,
   "metadata": {},
   "outputs": [
    {
     "name": "stdout",
     "output_type": "stream",
     "text": [
      "16\n",
      "8\n"
     ]
    }
   ],
   "source": [
    "# Question no. 4:\n",
    "\n",
    "import math     #To use ceil function since round(10/4) is giving same value as round(6/4) \n",
    "n=int(input())\n",
    "a=n%4\n",
    "if a==0 or a==3:\n",
    "    b=round(n/4)\n",
    "    o=b*2\n",
    "elif a==2:\n",
    "    b=math.ceil(n/4)\n",
    "    o=b*2\n",
    "else:\n",
    "    b=int(n/4)\n",
    "    c=b*2\n",
    "    o=5+c\n",
    "print(o)"
   ]
  },
  {
   "cell_type": "code",
   "execution_count": null,
   "metadata": {},
   "outputs": [],
   "source": []
  }
 ],
 "metadata": {
  "kernelspec": {
   "display_name": "Python 3",
   "language": "python",
   "name": "python3"
  },
  "language_info": {
   "codemirror_mode": {
    "name": "ipython",
    "version": 3
   },
   "file_extension": ".py",
   "mimetype": "text/x-python",
   "name": "python",
   "nbconvert_exporter": "python",
   "pygments_lexer": "ipython3",
   "version": "3.7.7"
  }
 },
 "nbformat": 4,
 "nbformat_minor": 4
}
